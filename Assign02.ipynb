{
 "cells": [
  {
   "cell_type": "code",
   "execution_count": 13,
   "id": "db66cfcc-0272-4a30-b7e6-3d325402edbe",
   "metadata": {},
   "outputs": [
    {
     "data": {
      "text/plain": [
       "'\\n.sing a custom exception class centralizes the error logic, \\nenhancing code readability and maintainability\\n\\n'"
      ]
     },
     "execution_count": 13,
     "metadata": {},
     "output_type": "execute_result"
    }
   ],
   "source": [
    "##Q1. Explain why we have to use the Exception class while creating a Custom Exception.\n",
    "\n",
    "'''\n",
    ".sing a custom exception class centralizes the error logic, \n",
    "enhancing code readability and maintainability\n",
    "\n",
    "'''"
   ]
  },
  {
   "cell_type": "code",
   "execution_count": 15,
   "id": "04749984-72bb-44fc-be3e-f907a267b05a",
   "metadata": {},
   "outputs": [
    {
     "data": {
      "text/plain": [
       "'\\n.# import inspect module \\nimport inspect \\n\\n# our treeClass function \\ndef treeClass(cls, ind = 0): \\n\\t\\n\\t# print name of the class \\n\\tprint (\\'-\\' * ind, cls.__name__) \\n\\t\\n\\t# iterating through subclasses \\n\\tfor i in cls.__subclasses__(): \\n\\t\\ttreeClass(i, ind + 3) \\n\\nprint(\"Hierarchy for Built-in exceptions is : \") \\n\\n# inspect.getmro() Return a tuple \\n# of class cls’s base classes. \\n\\n# building a tree hierarchy \\ninspect.getclasstree(inspect.getmro(BaseException)) \\n\\n# function call \\ntreeClass(BaseException) \\n\\n'"
      ]
     },
     "execution_count": 15,
     "metadata": {},
     "output_type": "execute_result"
    }
   ],
   "source": [
    "##Q2. Write a python program to print Python Exception Hierarchy.\n",
    "\n",
    "'''\n",
    ".# import inspect module \n",
    "import inspect \n",
    "\n",
    "# our treeClass function \n",
    "def treeClass(cls, ind = 0): \n",
    "\t\n",
    "\t# print name of the class \n",
    "\tprint ('-' * ind, cls.__name__) \n",
    "\t\n",
    "\t# iterating through subclasses \n",
    "\tfor i in cls.__subclasses__(): \n",
    "\t\ttreeClass(i, ind + 3) \n",
    "\n",
    "print(\"Hierarchy for Built-in exceptions is : \") \n",
    "\n",
    "# inspect.getmro() Return a tuple \n",
    "# of class cls’s base classes. \n",
    "\n",
    "# building a tree hierarchy \n",
    "inspect.getclasstree(inspect.getmro(BaseException)) \n",
    "\n",
    "# function call \n",
    "treeClass(BaseException) \n",
    "\n",
    "'''"
   ]
  },
  {
   "cell_type": "code",
   "execution_count": 17,
   "id": "b4f092ad-9edf-46fe-9a72-39c616a0fc60",
   "metadata": {},
   "outputs": [
    {
     "data": {
      "text/plain": [
       "\"\\nArithmeticError is thrown when an error occurs while performing mathematical operations. \\nThese errors include attempting to perform a bitshift by a negative amount, \\nand any call to intdiv() that would result in a value outside the possible bounds of an int.\\n\\ntry:\\n  arithmetic = 5/0\\n  print(arithmetic)\\nexcept ArithmeticError:\\n  print('You have just made an Arithmetic error')\\n\\n\""
      ]
     },
     "execution_count": 17,
     "metadata": {},
     "output_type": "execute_result"
    }
   ],
   "source": [
    "##Q3. What errors are defined in the ArithmeticError class? Explain any two with an example.\n",
    "\n",
    "\n",
    "'''\n",
    "ArithmeticError is thrown when an error occurs while performing mathematical operations. \n",
    "These errors include attempting to perform a bitshift by a negative amount, \n",
    "and any call to intdiv() that would result in a value outside the possible bounds of an int.\n",
    "\n",
    "try:\n",
    "  arithmetic = 5/0\n",
    "  print(arithmetic)\n",
    "except ArithmeticError:\n",
    "  print('You have just made an Arithmetic error')\n",
    "\n",
    "'''"
   ]
  },
  {
   "cell_type": "code",
   "execution_count": 19,
   "id": "c61440f9-b6a7-4ff0-b626-f9e40d23f872",
   "metadata": {},
   "outputs": [
    {
     "data": {
      "text/plain": [
       "'\\nLookupError Exception is the Base class for errors raised when something can\\'t be found. \\nThe base class for the exceptions that are raised when a key or index used on a mapping or sequence is invalid: \\nIndexError, KeyError. An IndexError is raised when a sequence reference is out of range.\\n\\nA KeyError exception can be understood as a subclass, along with IndexError , of the more general LookupError exception, \\nall of which are objects of the Exception class. Specifically, \\na KeyError exception is raised when a programmer tries to access a key that does not exist in a dictionary.\\n\\ne.g(keyerror) \\nages = {\\'Jim\\': 30, \\'Pam\\': 28, \\'Kevin\\': 33}\\nages[\\'Michael\\']\\nTraceback (most recent call last):\\n  File \"<stdin>\", line 1, in <module>\\nKeyError: \\'Michael\\'\\n'"
      ]
     },
     "execution_count": 19,
     "metadata": {},
     "output_type": "execute_result"
    }
   ],
   "source": [
    "###Q4. Why LookupError class is used? Explain with an example KeyError and IndexError.\n",
    "\n",
    "'''\n",
    "LookupError Exception is the Base class for errors raised when something can't be found. \n",
    "The base class for the exceptions that are raised when a key or index used on a mapping or sequence is invalid: \n",
    "IndexError, KeyError. An IndexError is raised when a sequence reference is out of range.\n",
    "\n",
    "A KeyError exception can be understood as a subclass, along with IndexError , of the more general LookupError exception, \n",
    "all of which are objects of the Exception class. Specifically, \n",
    "a KeyError exception is raised when a programmer tries to access a key that does not exist in a dictionary.\n",
    "\n",
    "e.g(keyerror) \n",
    "ages = {'Jim': 30, 'Pam': 28, 'Kevin': 33}\n",
    "ages['Michael']\n",
    "Traceback (most recent call last):\n",
    "  File \"<stdin>\", line 1, in <module>\n",
    "KeyError: 'Michael'\n",
    "'''"
   ]
  },
  {
   "cell_type": "code",
   "execution_count": 21,
   "id": "e576a985-a58f-46cc-a0ef-8bb4ef3d4bdb",
   "metadata": {},
   "outputs": [
    {
     "data": {
      "text/plain": [
       "'\\n.The ImportError is raised when an import statement has trouble successfully importing the specified module. Typically, such \\na problem is due to an invalid or incorrect path, which will raise a ModuleNotFoundError\\n\\n'"
      ]
     },
     "execution_count": 21,
     "metadata": {},
     "output_type": "execute_result"
    }
   ],
   "source": [
    "##Q5. Explain ImportError. What is ModuleNotFoundError?\n",
    "\n",
    "'''\n",
    ".The ImportError is raised when an import statement has trouble successfully importing the specified module. Typically, such \n",
    "a problem is due to an invalid or incorrect path, which will raise a ModuleNotFoundError\n",
    "\n",
    "'''"
   ]
  },
  {
   "cell_type": "code",
   "execution_count": 23,
   "id": "95dfe78b-92c2-4bf6-8bed-aa2dc79b0c67",
   "metadata": {},
   "outputs": [
    {
     "data": {
      "text/plain": [
       "'\\n1. Use Specific Exceptions\\n2. Implement Error Logging\\n3. Define Custom Exception Classes\\n4. Handle Exceptions Gracefully\\n5. Use Finally for Cleanup Tasks\\n\\n'"
      ]
     },
     "execution_count": 23,
     "metadata": {},
     "output_type": "execute_result"
    }
   ],
   "source": [
    "##Q6. List down some best practices for exception handling in python.\n",
    "\n",
    "'''\n",
    "1. Use Specific Exceptions\n",
    "2. Implement Error Logging\n",
    "3. Define Custom Exception Classes\n",
    "4. Handle Exceptions Gracefully\n",
    "5. Use Finally for Cleanup Tasks\n",
    "\n",
    "'''"
   ]
  },
  {
   "cell_type": "code",
   "execution_count": null,
   "id": "97950ff7-00cc-41f2-b57a-1fd92e2c678f",
   "metadata": {},
   "outputs": [],
   "source": []
  }
 ],
 "metadata": {
  "kernelspec": {
   "display_name": "Python 3 (ipykernel)",
   "language": "python",
   "name": "python3"
  },
  "language_info": {
   "codemirror_mode": {
    "name": "ipython",
    "version": 3
   },
   "file_extension": ".py",
   "mimetype": "text/x-python",
   "name": "python",
   "nbconvert_exporter": "python",
   "pygments_lexer": "ipython3",
   "version": "3.12.4"
  }
 },
 "nbformat": 4,
 "nbformat_minor": 5
}
